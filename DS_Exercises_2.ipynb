{
 "cells": [
  {
   "cell_type": "code",
   "execution_count": 2,
   "id": "1b8711bf",
   "metadata": {},
   "outputs": [],
   "source": [
    "import pandas as pd\n",
    "import matplotlib.pyplot as plt\n",
    "import seaborn as sns"
   ]
  },
  {
   "cell_type": "code",
   "execution_count": 3,
   "id": "d2d99d5a",
   "metadata": {},
   "outputs": [],
   "source": [
    "df=sns.load_dataset(\"tips\")"
   ]
  },
  {
   "cell_type": "markdown",
   "id": "97ac8a32",
   "metadata": {},
   "source": [
    "### During Saturday's and Sundays which gender has received highest Average value with respect to Lunch and Dinner\n"
   ]
  },
  {
   "cell_type": "code",
   "execution_count": 76,
   "id": "940334be",
   "metadata": {},
   "outputs": [
    {
     "data": {
      "text/plain": [
       "Dinner    76\n",
       "Lunch      0\n",
       "Name: time, dtype: int64"
      ]
     },
     "execution_count": 76,
     "metadata": {},
     "output_type": "execute_result"
    }
   ],
   "source": [
    "df1=df[df[\"day\"]==\"Sun\"][\"time\"].value_counts()\n",
    "df1"
   ]
  },
  {
   "cell_type": "code",
   "execution_count": 77,
   "id": "9c46cc9c",
   "metadata": {
    "scrolled": true
   },
   "outputs": [
    {
     "data": {
      "text/plain": [
       "time  \n",
       "Dinner    87\n",
       "Lunch      0\n",
       "dtype: int64"
      ]
     },
     "execution_count": 77,
     "metadata": {},
     "output_type": "execute_result"
    }
   ],
   "source": [
    "df1=df[df[\"day\"]==\"Sat\"][[\"time\"]].value_counts()\n",
    "df1"
   ]
  },
  {
   "cell_type": "code",
   "execution_count": 78,
   "id": "1fa31d81",
   "metadata": {
    "scrolled": false
   },
   "outputs": [
    {
     "data": {
      "text/plain": [
       "day   sex     time  \n",
       "Thur  Male    Lunch     18.714667\n",
       "              Dinner          NaN\n",
       "      Female  Lunch     16.648710\n",
       "              Dinner    18.780000\n",
       "Fri   Male    Lunch     11.386667\n",
       "              Dinner    23.487143\n",
       "      Female  Lunch     13.940000\n",
       "              Dinner    14.310000\n",
       "Sat   Male    Lunch           NaN\n",
       "              Dinner    20.802542\n",
       "      Female  Lunch           NaN\n",
       "              Dinner    19.680357\n",
       "Sun   Male    Lunch           NaN\n",
       "              Dinner    21.887241\n",
       "      Female  Lunch           NaN\n",
       "              Dinner    19.872222\n",
       "Name: total_bill, dtype: float64"
      ]
     },
     "execution_count": 78,
     "metadata": {},
     "output_type": "execute_result"
    }
   ],
   "source": [
    "df.groupby([\"day\",\"sex\",\"time\"])[\"total_bill\"].mean()"
   ]
  },
  {
   "cell_type": "markdown",
   "id": "fb39d6c7",
   "metadata": {},
   "source": [
    "#### The male gender has highest average in Dinner time only"
   ]
  },
  {
   "cell_type": "markdown",
   "id": "2e1f1843",
   "metadata": {},
   "source": [
    "### Why do you feel Sundays total bill distribution is higher than the other days?show plot and discuss"
   ]
  },
  {
   "cell_type": "code",
   "execution_count": 84,
   "id": "af20b994",
   "metadata": {
    "scrolled": false
   },
   "outputs": [
    {
     "data": {
      "text/plain": [
       "<AxesSubplot:xlabel='day', ylabel='total_bill'>"
      ]
     },
     "execution_count": 84,
     "metadata": {},
     "output_type": "execute_result"
    },
    {
     "data": {
      "image/png": "[encoded data removed]",
      "text/plain": [
       "<Figure size 432x288 with 1 Axes>"
      ]
     },
     "metadata": {
      "needs_background": "light"
     },
     "output_type": "display_data"
    }
   ],
   "source": [
    "sns.boxplot(\"day\",\"total_bill\",data=df)"
   ]
  },
  {
   "cell_type": "markdown",
   "id": "d08e076e",
   "metadata": {},
   "source": [
    "#### Compare to Other days Saturday has highest total_bill"
   ]
  },
  {
   "cell_type": "markdown",
   "id": "0aa054b2",
   "metadata": {},
   "source": [
    "### Take 'sex' variable seperately and convert into list."
   ]
  },
  {
   "cell_type": "code",
   "execution_count": 44,
   "id": "ef5c8db2",
   "metadata": {},
   "outputs": [
    {
     "data": {
      "text/plain": [
       "['Female',\n",
       " 'Male',\n",
       " 'Male',\n",
       " 'Male',\n",
       " 'Female',\n",
       " 'Male',\n",
       " 'Male',\n",
       " 'Male',\n",
       " 'Male',\n",
       " 'Male',\n",
       " 'Male',\n",
       " 'Female',\n",
       " 'Male',\n",
       " 'Male',\n",
       " 'Female',\n",
       " 'Male',\n",
       " 'Female',\n",
       " 'Male',\n",
       " 'Female',\n",
       " 'Male',\n",
       " 'Male',\n",
       " 'Female',\n",
       " 'Female',\n",
       " 'Male',\n",
       " 'Male',\n",
       " 'Male',\n",
       " 'Male',\n",
       " 'Male',\n",
       " 'Male',\n",
       " 'Female',\n",
       " 'Male',\n",
       " 'Male',\n",
       " 'Female',\n",
       " 'Female',\n",
       " 'Male',\n",
       " 'Male',\n",
       " 'Male',\n",
       " 'Female',\n",
       " 'Male',\n",
       " 'Male',\n",
       " 'Male',\n",
       " 'Male',\n",
       " 'Male',\n",
       " 'Male',\n",
       " 'Male',\n",
       " 'Male',\n",
       " 'Male',\n",
       " 'Male',\n",
       " 'Male',\n",
       " 'Male',\n",
       " 'Male',\n",
       " 'Female',\n",
       " 'Female',\n",
       " 'Male',\n",
       " 'Male',\n",
       " 'Male',\n",
       " 'Male',\n",
       " 'Female',\n",
       " 'Male',\n",
       " 'Male',\n",
       " 'Male',\n",
       " 'Male',\n",
       " 'Male',\n",
       " 'Male',\n",
       " 'Male',\n",
       " 'Male',\n",
       " 'Female',\n",
       " 'Female',\n",
       " 'Male',\n",
       " 'Male',\n",
       " 'Male',\n",
       " 'Female',\n",
       " 'Female',\n",
       " 'Female',\n",
       " 'Female',\n",
       " 'Male',\n",
       " 'Male',\n",
       " 'Male',\n",
       " 'Male',\n",
       " 'Male',\n",
       " 'Male',\n",
       " 'Male',\n",
       " 'Female',\n",
       " 'Male',\n",
       " 'Male',\n",
       " 'Female',\n",
       " 'Male',\n",
       " 'Male',\n",
       " 'Male',\n",
       " 'Male',\n",
       " 'Male',\n",
       " 'Male',\n",
       " 'Female',\n",
       " 'Female',\n",
       " 'Female',\n",
       " 'Male',\n",
       " 'Male',\n",
       " 'Male',\n",
       " 'Male',\n",
       " 'Male',\n",
       " 'Female',\n",
       " 'Female',\n",
       " 'Female',\n",
       " 'Female',\n",
       " 'Female',\n",
       " 'Male',\n",
       " 'Male',\n",
       " 'Male',\n",
       " 'Male',\n",
       " 'Female',\n",
       " 'Male',\n",
       " 'Female',\n",
       " 'Male',\n",
       " 'Male',\n",
       " 'Female',\n",
       " 'Female',\n",
       " 'Male',\n",
       " 'Female',\n",
       " 'Female',\n",
       " 'Female',\n",
       " 'Male',\n",
       " 'Female',\n",
       " 'Male',\n",
       " 'Male',\n",
       " 'Female',\n",
       " 'Female',\n",
       " 'Male',\n",
       " 'Female',\n",
       " 'Female',\n",
       " 'Male',\n",
       " 'Male',\n",
       " 'Female',\n",
       " 'Female',\n",
       " 'Female',\n",
       " 'Female',\n",
       " 'Female',\n",
       " 'Female',\n",
       " 'Female',\n",
       " 'Male',\n",
       " 'Female',\n",
       " 'Female',\n",
       " 'Male',\n",
       " 'Male',\n",
       " 'Female',\n",
       " 'Female',\n",
       " 'Female',\n",
       " 'Female',\n",
       " 'Female',\n",
       " 'Male',\n",
       " 'Male',\n",
       " 'Male',\n",
       " 'Male',\n",
       " 'Male',\n",
       " 'Male',\n",
       " 'Male',\n",
       " 'Female',\n",
       " 'Male',\n",
       " 'Female',\n",
       " 'Female',\n",
       " 'Male',\n",
       " 'Male',\n",
       " 'Male',\n",
       " 'Female',\n",
       " 'Male',\n",
       " 'Female',\n",
       " 'Male',\n",
       " 'Male',\n",
       " 'Male',\n",
       " 'Female',\n",
       " 'Female',\n",
       " 'Male',\n",
       " 'Male',\n",
       " 'Male',\n",
       " 'Male',\n",
       " 'Male',\n",
       " 'Male',\n",
       " 'Male',\n",
       " 'Male',\n",
       " 'Female',\n",
       " 'Male',\n",
       " 'Male',\n",
       " 'Male',\n",
       " 'Male',\n",
       " 'Male',\n",
       " 'Male',\n",
       " 'Male',\n",
       " 'Female',\n",
       " 'Male',\n",
       " 'Female',\n",
       " 'Male',\n",
       " 'Male',\n",
       " 'Female',\n",
       " 'Male',\n",
       " 'Male',\n",
       " 'Male',\n",
       " 'Male',\n",
       " 'Male',\n",
       " 'Female',\n",
       " 'Female',\n",
       " 'Male',\n",
       " 'Male',\n",
       " 'Female',\n",
       " 'Female',\n",
       " 'Female',\n",
       " 'Male',\n",
       " 'Female',\n",
       " 'Male',\n",
       " 'Male',\n",
       " 'Male',\n",
       " 'Female',\n",
       " 'Male',\n",
       " 'Male',\n",
       " 'Male',\n",
       " 'Female',\n",
       " 'Female',\n",
       " 'Female',\n",
       " 'Male',\n",
       " 'Male',\n",
       " 'Male',\n",
       " 'Female',\n",
       " 'Male',\n",
       " 'Female',\n",
       " 'Male',\n",
       " 'Female',\n",
       " 'Male',\n",
       " 'Female',\n",
       " 'Female',\n",
       " 'Male',\n",
       " 'Male',\n",
       " 'Female',\n",
       " 'Male',\n",
       " 'Male',\n",
       " 'Male',\n",
       " 'Male',\n",
       " 'Male',\n",
       " 'Male',\n",
       " 'Male',\n",
       " 'Male',\n",
       " 'Female',\n",
       " 'Male',\n",
       " 'Female',\n",
       " 'Male',\n",
       " 'Male',\n",
       " 'Female']"
      ]
     },
     "execution_count": 44,
     "metadata": {},
     "output_type": "execute_result"
    }
   ],
   "source": [
    "gender_fem=df[\"sex\"]\n",
    "list(gender_fem)"
   ]
  },
  {
   "cell_type": "code",
   "execution_count": 49,
   "id": "acba2102",
   "metadata": {
    "scrolled": true
   },
   "outputs": [
    {
     "data": {
      "text/html": [
       "<div>\n",
       "<style scoped>\n",
       "    .dataframe tbody tr th:only-of-type {\n",
       "        vertical-align: middle;\n",
       "    }\n",
       "\n",
       "    .dataframe tbody tr th {\n",
       "        vertical-align: top;\n",
       "    }\n",
       "\n",
       "    .dataframe thead th {\n",
       "        text-align: right;\n",
       "    }\n",
       "</style>\n",
       "<table border=\"1\" class=\"dataframe\">\n",
       "  <thead>\n",
       "    <tr style=\"text-align: right;\">\n",
       "      <th></th>\n",
       "      <th>total_bill</th>\n",
       "      <th>tip</th>\n",
       "      <th>sex</th>\n",
       "      <th>smoker</th>\n",
       "      <th>day</th>\n",
       "      <th>time</th>\n",
       "      <th>size</th>\n",
       "      <th>encoded_gender</th>\n",
       "    </tr>\n",
       "  </thead>\n",
       "  <tbody>\n",
       "    <tr>\n",
       "      <th>0</th>\n",
       "      <td>16.99</td>\n",
       "      <td>1.01</td>\n",
       "      <td>Female</td>\n",
       "      <td>No</td>\n",
       "      <td>Sun</td>\n",
       "      <td>Dinner</td>\n",
       "      <td>2</td>\n",
       "      <td>1</td>\n",
       "    </tr>\n",
       "    <tr>\n",
       "      <th>1</th>\n",
       "      <td>10.34</td>\n",
       "      <td>1.66</td>\n",
       "      <td>Male</td>\n",
       "      <td>No</td>\n",
       "      <td>Sun</td>\n",
       "      <td>Dinner</td>\n",
       "      <td>3</td>\n",
       "      <td>0</td>\n",
       "    </tr>\n",
       "    <tr>\n",
       "      <th>2</th>\n",
       "      <td>21.01</td>\n",
       "      <td>3.50</td>\n",
       "      <td>Male</td>\n",
       "      <td>No</td>\n",
       "      <td>Sun</td>\n",
       "      <td>Dinner</td>\n",
       "      <td>3</td>\n",
       "      <td>0</td>\n",
       "    </tr>\n",
       "    <tr>\n",
       "      <th>3</th>\n",
       "      <td>23.68</td>\n",
       "      <td>3.31</td>\n",
       "      <td>Male</td>\n",
       "      <td>No</td>\n",
       "      <td>Sun</td>\n",
       "      <td>Dinner</td>\n",
       "      <td>2</td>\n",
       "      <td>0</td>\n",
       "    </tr>\n",
       "    <tr>\n",
       "      <th>4</th>\n",
       "      <td>24.59</td>\n",
       "      <td>3.61</td>\n",
       "      <td>Female</td>\n",
       "      <td>No</td>\n",
       "      <td>Sun</td>\n",
       "      <td>Dinner</td>\n",
       "      <td>4</td>\n",
       "      <td>1</td>\n",
       "    </tr>\n",
       "    <tr>\n",
       "      <th>...</th>\n",
       "      <td>...</td>\n",
       "      <td>...</td>\n",
       "      <td>...</td>\n",
       "      <td>...</td>\n",
       "      <td>...</td>\n",
       "      <td>...</td>\n",
       "      <td>...</td>\n",
       "      <td>...</td>\n",
       "    </tr>\n",
       "    <tr>\n",
       "      <th>239</th>\n",
       "      <td>29.03</td>\n",
       "      <td>5.92</td>\n",
       "      <td>Male</td>\n",
       "      <td>No</td>\n",
       "      <td>Sat</td>\n",
       "      <td>Dinner</td>\n",
       "      <td>3</td>\n",
       "      <td>0</td>\n",
       "    </tr>\n",
       "    <tr>\n",
       "      <th>240</th>\n",
       "      <td>27.18</td>\n",
       "      <td>2.00</td>\n",
       "      <td>Female</td>\n",
       "      <td>Yes</td>\n",
       "      <td>Sat</td>\n",
       "      <td>Dinner</td>\n",
       "      <td>2</td>\n",
       "      <td>1</td>\n",
       "    </tr>\n",
       "    <tr>\n",
       "      <th>241</th>\n",
       "      <td>22.67</td>\n",
       "      <td>2.00</td>\n",
       "      <td>Male</td>\n",
       "      <td>Yes</td>\n",
       "      <td>Sat</td>\n",
       "      <td>Dinner</td>\n",
       "      <td>2</td>\n",
       "      <td>0</td>\n",
       "    </tr>\n",
       "    <tr>\n",
       "      <th>242</th>\n",
       "      <td>17.82</td>\n",
       "      <td>1.75</td>\n",
       "      <td>Male</td>\n",
       "      <td>No</td>\n",
       "      <td>Sat</td>\n",
       "      <td>Dinner</td>\n",
       "      <td>2</td>\n",
       "      <td>0</td>\n",
       "    </tr>\n",
       "    <tr>\n",
       "      <th>243</th>\n",
       "      <td>18.78</td>\n",
       "      <td>3.00</td>\n",
       "      <td>Female</td>\n",
       "      <td>No</td>\n",
       "      <td>Thur</td>\n",
       "      <td>Dinner</td>\n",
       "      <td>2</td>\n",
       "      <td>1</td>\n",
       "    </tr>\n",
       "  </tbody>\n",
       "</table>\n",
       "<p>244 rows × 8 columns</p>\n",
       "</div>"
      ],
      "text/plain": [
       "     total_bill   tip     sex smoker   day    time  size encoded_gender\n",
       "0         16.99  1.01  Female     No   Sun  Dinner     2              1\n",
       "1         10.34  1.66    Male     No   Sun  Dinner     3              0\n",
       "2         21.01  3.50    Male     No   Sun  Dinner     3              0\n",
       "3         23.68  3.31    Male     No   Sun  Dinner     2              0\n",
       "4         24.59  3.61  Female     No   Sun  Dinner     4              1\n",
       "..          ...   ...     ...    ...   ...     ...   ...            ...\n",
       "239       29.03  5.92    Male     No   Sat  Dinner     3              0\n",
       "240       27.18  2.00  Female    Yes   Sat  Dinner     2              1\n",
       "241       22.67  2.00    Male    Yes   Sat  Dinner     2              0\n",
       "242       17.82  1.75    Male     No   Sat  Dinner     2              0\n",
       "243       18.78  3.00  Female     No  Thur  Dinner     2              1\n",
       "\n",
       "[244 rows x 8 columns]"
      ]
     },
     "execution_count": 49,
     "metadata": {},
     "output_type": "execute_result"
    }
   ],
   "source": [
    "def encode_gender(sex):\n",
    "    if sex==\"Female\":\n",
    "        return 1\n",
    "    else:\n",
    "        return 0\n",
    "encode_gender('Female')\n",
    "df[\"encoded_gender\"]=df[\"sex\"].apply(encode_gender)\n",
    "df[\"encoded_gender\"]\n",
    "df\n",
    "    "
   ]
  },
  {
   "cell_type": "markdown",
   "id": "be465780",
   "metadata": {},
   "source": [
    "#### Hence we created new_coloumn with the name encoded_gender by applying encode"
   ]
  },
  {
   "cell_type": "markdown",
   "id": "62d40698",
   "metadata": {},
   "source": [
    "### How do you add new column to this dataset"
   ]
  },
  {
   "cell_type": "code",
   "execution_count": null,
   "id": "91d90603",
   "metadata": {
    "scrolled": true
   },
   "outputs": [],
   "source": [
    "df[\"tot_amount\"]=df['total_bill']+df['tip']"
   ]
  },
  {
   "cell_type": "code",
   "execution_count": null,
   "id": "669c8a33",
   "metadata": {},
   "outputs": [],
   "source": [
    "df"
   ]
  },
  {
   "cell_type": "markdown",
   "id": "04d04352",
   "metadata": {},
   "source": [
    "#### Hence we created column with column_name 'tot_amount'"
   ]
  },
  {
   "cell_type": "markdown",
   "id": "d2e177e5",
   "metadata": {},
   "source": [
    "### How do you drop a new column that was created in the last question"
   ]
  },
  {
   "cell_type": "code",
   "execution_count": null,
   "id": "dd3febb6",
   "metadata": {},
   "outputs": [],
   "source": [
    "df.drop([\"tot_amount\"],axis=1,inplace=True)"
   ]
  },
  {
   "cell_type": "code",
   "execution_count": null,
   "id": "0670eb8a",
   "metadata": {},
   "outputs": [],
   "source": [
    "df"
   ]
  },
  {
   "cell_type": "markdown",
   "id": "76ee1218",
   "metadata": {},
   "source": [
    "### Show the total_bill avgs of different days in the data? and plot it"
   ]
  },
  {
   "cell_type": "code",
   "execution_count": null,
   "id": "76e17bf9",
   "metadata": {},
   "outputs": [],
   "source": [
    "df.groupby(\"day\")[\"total_bill\"].mean()"
   ]
  },
  {
   "cell_type": "code",
   "execution_count": 31,
   "id": "11d1c9ec",
   "metadata": {},
   "outputs": [
    {
     "data": {
      "text/plain": [
       "<seaborn.axisgrid.FacetGrid at 0x25ae9d03880>"
      ]
     },
     "execution_count": 31,
     "metadata": {},
     "output_type": "execute_result"
    },
    {
     "data": {
      "image/png": "[encoded data removed]",
      "text/plain": [
       "<Figure size 1440x360 with 4 Axes>"
      ]
     },
     "metadata": {
      "needs_background": "light"
     },
     "output_type": "display_data"
    }
   ],
   "source": [
    "sns.displot(data=df,x=\"total_bill\",col=\"day\",color=\"orange\")"
   ]
  },
  {
   "cell_type": "markdown",
   "id": "19860e2d",
   "metadata": {},
   "source": [
    "### What variables is chosen when total_bill value is exactly 13.42 and gender is female"
   ]
  },
  {
   "cell_type": "code",
   "execution_count": 32,
   "id": "ee5ee5c6",
   "metadata": {
    "scrolled": true
   },
   "outputs": [
    {
     "data": {
      "text/html": [
       "<div>\n",
       "<style scoped>\n",
       "    .dataframe tbody tr th:only-of-type {\n",
       "        vertical-align: middle;\n",
       "    }\n",
       "\n",
       "    .dataframe tbody tr th {\n",
       "        vertical-align: top;\n",
       "    }\n",
       "\n",
       "    .dataframe thead th {\n",
       "        text-align: right;\n",
       "    }\n",
       "</style>\n",
       "<table border=\"1\" class=\"dataframe\">\n",
       "  <thead>\n",
       "    <tr style=\"text-align: right;\">\n",
       "      <th></th>\n",
       "      <th>total_bill</th>\n",
       "      <th>tip</th>\n",
       "      <th>sex</th>\n",
       "      <th>smoker</th>\n",
       "      <th>day</th>\n",
       "      <th>time</th>\n",
       "      <th>size</th>\n",
       "    </tr>\n",
       "  </thead>\n",
       "  <tbody>\n",
       "    <tr>\n",
       "      <th>121</th>\n",
       "      <td>13.42</td>\n",
       "      <td>1.68</td>\n",
       "      <td>Female</td>\n",
       "      <td>No</td>\n",
       "      <td>Thur</td>\n",
       "      <td>Lunch</td>\n",
       "      <td>2</td>\n",
       "    </tr>\n",
       "    <tr>\n",
       "      <th>221</th>\n",
       "      <td>13.42</td>\n",
       "      <td>3.48</td>\n",
       "      <td>Female</td>\n",
       "      <td>Yes</td>\n",
       "      <td>Fri</td>\n",
       "      <td>Lunch</td>\n",
       "      <td>2</td>\n",
       "    </tr>\n",
       "  </tbody>\n",
       "</table>\n",
       "</div>"
      ],
      "text/plain": [
       "     total_bill   tip     sex smoker   day   time  size\n",
       "121       13.42  1.68  Female     No  Thur  Lunch     2\n",
       "221       13.42  3.48  Female    Yes   Fri  Lunch     2"
      ]
     },
     "execution_count": 32,
     "metadata": {},
     "output_type": "execute_result"
    }
   ],
   "source": [
    "df_14=df[(df[\"total_bill\"]==13.42)&(df[\"sex\"]==\"Female\")]\n",
    "df_14"
   ]
  },
  {
   "cell_type": "markdown",
   "id": "620d4785",
   "metadata": {},
   "source": [
    "###  Group the data based on 'sex' variable and find their respective averages"
   ]
  },
  {
   "cell_type": "code",
   "execution_count": 38,
   "id": "ad987403",
   "metadata": {},
   "outputs": [
    {
     "data": {
      "text/html": [
       "<div>\n",
       "<style scoped>\n",
       "    .dataframe tbody tr th:only-of-type {\n",
       "        vertical-align: middle;\n",
       "    }\n",
       "\n",
       "    .dataframe tbody tr th {\n",
       "        vertical-align: top;\n",
       "    }\n",
       "\n",
       "    .dataframe thead th {\n",
       "        text-align: right;\n",
       "    }\n",
       "</style>\n",
       "<table border=\"1\" class=\"dataframe\">\n",
       "  <thead>\n",
       "    <tr style=\"text-align: right;\">\n",
       "      <th></th>\n",
       "      <th>total_bill</th>\n",
       "      <th>tip</th>\n",
       "      <th>size</th>\n",
       "    </tr>\n",
       "    <tr>\n",
       "      <th>sex</th>\n",
       "      <th></th>\n",
       "      <th></th>\n",
       "      <th></th>\n",
       "    </tr>\n",
       "  </thead>\n",
       "  <tbody>\n",
       "    <tr>\n",
       "      <th>Male</th>\n",
       "      <td>20.744076</td>\n",
       "      <td>3.089618</td>\n",
       "      <td>2.630573</td>\n",
       "    </tr>\n",
       "    <tr>\n",
       "      <th>Female</th>\n",
       "      <td>18.056897</td>\n",
       "      <td>2.833448</td>\n",
       "      <td>2.459770</td>\n",
       "    </tr>\n",
       "  </tbody>\n",
       "</table>\n",
       "</div>"
      ],
      "text/plain": [
       "        total_bill       tip      size\n",
       "sex                                   \n",
       "Male     20.744076  3.089618  2.630573\n",
       "Female   18.056897  2.833448  2.459770"
      ]
     },
     "execution_count": 38,
     "metadata": {},
     "output_type": "execute_result"
    }
   ],
   "source": [
    "df_12=df.groupby(\"sex\").mean()\n",
    "df_12"
   ]
  },
  {
   "cell_type": "markdown",
   "id": "2e1e235e",
   "metadata": {},
   "source": [
    "### What is the mostly preferred time when table size is 5"
   ]
  },
  {
   "cell_type": "code",
   "execution_count": null,
   "id": "6563776e",
   "metadata": {
    "scrolled": true
   },
   "outputs": [],
   "source": [
    "df[df[\"size\"]==5][\"time\"].value_counts()"
   ]
  },
  {
   "cell_type": "markdown",
   "id": "318bef1d",
   "metadata": {},
   "source": [
    "   Dinner is most preferred time when the table size is 5"
   ]
  },
  {
   "cell_type": "markdown",
   "id": "acc1de07",
   "metadata": {},
   "source": [
    "### Which day is mostly preferred when table size is 4"
   ]
  },
  {
   "cell_type": "code",
   "execution_count": null,
   "id": "20a9becd",
   "metadata": {},
   "outputs": [],
   "source": [
    "df[df[\"size\"]==4][\"day\"].value_counts()"
   ]
  },
  {
   "cell_type": "markdown",
   "id": "24ed7b3b",
   "metadata": {},
   "source": [
    "    Sunday is the most preferrable day when the table size is 4"
   ]
  },
  {
   "cell_type": "markdown",
   "id": "e1a210fc",
   "metadata": {},
   "source": [
    "### When its Saturday ,which two table sizes are mostly preferred"
   ]
  },
  {
   "cell_type": "code",
   "execution_count": null,
   "id": "b8ad2ad8",
   "metadata": {},
   "outputs": [],
   "source": [
    "df[df[\"day\"]==\"Sat\"][\"size\"].value_counts()"
   ]
  },
  {
   "cell_type": "markdown",
   "id": "949a9ec9",
   "metadata": {},
   "source": [
    "    Table size 2,3 are preferred by the customers when it is saturday"
   ]
  },
  {
   "cell_type": "markdown",
   "id": "06d79342",
   "metadata": {},
   "source": [
    "### Which day is more preferred for lunch time?"
   ]
  },
  {
   "cell_type": "code",
   "execution_count": 39,
   "id": "483815b8",
   "metadata": {},
   "outputs": [
    {
     "data": {
      "text/plain": [
       "Thur    61\n",
       "Fri      7\n",
       "Sat      0\n",
       "Sun      0\n",
       "Name: day, dtype: int64"
      ]
     },
     "execution_count": 39,
     "metadata": {},
     "output_type": "execute_result"
    }
   ],
   "source": [
    "df[df[\"time\"]==\"Lunch\"][\"day\"].value_counts()"
   ]
  },
  {
   "cell_type": "code",
   "execution_count": 40,
   "id": "d7b360b7",
   "metadata": {
    "scrolled": true
   },
   "outputs": [
    {
     "name": "stderr",
     "output_type": "stream",
     "text": [
      "C:\\Users\\SOORI\\AppData\\Local\\Programs\\Python\\Python39\\lib\\site-packages\\seaborn\\_decorators.py:36: FutureWarning: Pass the following variable as a keyword arg: x. From version 0.12, the only valid positional argument will be `data`, and passing other arguments without an explicit keyword will result in an error or misinterpretation.\n",
      "  warnings.warn(\n"
     ]
    },
    {
     "data": {
      "text/plain": [
       "<AxesSubplot:xlabel='day', ylabel='count'>"
      ]
     },
     "execution_count": 40,
     "metadata": {},
     "output_type": "execute_result"
    },
    {
     "data": {
      "image/png": "[encoded data removed]",
      "text/plain": [
       "<Figure size 432x288 with 1 Axes>"
      ]
     },
     "metadata": {
      "needs_background": "light"
     },
     "output_type": "display_data"
    }
   ],
   "source": [
    "sns.countplot(\"day\",data=df[df[\"time\"]==\"Lunch\"])"
   ]
  },
  {
   "cell_type": "markdown",
   "id": "c7a8c7c7",
   "metadata": {},
   "source": [
    "#### seaborn.countplot() method is used to Show the counts of observations in each categorical bin using bars"
   ]
  },
  {
   "cell_type": "markdown",
   "id": "8128763e",
   "metadata": {},
   "source": [
    "### Which day is more preferred for lunch by female group"
   ]
  },
  {
   "cell_type": "code",
   "execution_count": null,
   "id": "64644e51",
   "metadata": {},
   "outputs": [],
   "source": [
    "df[df[\"sex\"]==\"Female\"][\"time\"].value_counts()"
   ]
  },
  {
   "cell_type": "markdown",
   "id": "e1d51afd",
   "metadata": {},
   "source": [
    "    For the female group thursday is more preferrable day"
   ]
  },
  {
   "cell_type": "markdown",
   "id": "b73b3c2b",
   "metadata": {},
   "source": [
    "### Significance of Scatterplot"
   ]
  },
  {
   "cell_type": "markdown",
   "id": "fb759820",
   "metadata": {},
   "source": [
    "#### Scatterplots are used to show the relationship between pair of continuous variable,\n",
    "#### and it tells how the that two variables are correlated..either in the positive direction or in the negative direction"
   ]
  },
  {
   "cell_type": "code",
   "execution_count": null,
   "id": "10581361",
   "metadata": {},
   "outputs": [],
   "source": []
  }
 ],
 "metadata": {
  "kernelspec": {
   "display_name": "Python 3 (ipykernel)",
   "language": "python",
   "name": "python3"
  },
  "language_info": {
   "codemirror_mode": {
    "name": "ipython",
    "version": 3
   },
   "file_extension": ".py",
   "mimetype": "text/x-python",
   "name": "python",
   "nbconvert_exporter": "python",
   "pygments_lexer": "ipython3",
   "version": "3.9.9"
  }
 },
 "nbformat": 4,
 "nbformat_minor": 5
}
