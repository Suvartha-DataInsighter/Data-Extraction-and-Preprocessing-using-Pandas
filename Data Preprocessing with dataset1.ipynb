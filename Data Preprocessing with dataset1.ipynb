{
 "cells": [
  {
   "cell_type": "code",
   "execution_count": null,
   "id": "6c56b0a8",
   "metadata": {},
   "outputs": [],
   "source": [
    "import pandas as pd\n",
    "import matplotlib.pyplot as plt"
   ]
  },
  {
   "cell_type": "code",
   "execution_count": null,
   "id": "168b087b",
   "metadata": {},
   "outputs": [],
   "source": [
    "!pip install seaborn"
   ]
  },
  {
   "cell_type": "code",
   "execution_count": null,
   "id": "25f39bdf",
   "metadata": {},
   "outputs": [],
   "source": [
    "import seaborn as sns"
   ]
  },
  {
   "cell_type": "code",
   "execution_count": null,
   "id": "9768bd27",
   "metadata": {},
   "outputs": [],
   "source": [
    "df=sns.load_dataset(\"tips\")"
   ]
  },
  {
   "cell_type": "markdown",
   "id": "c395ba13",
   "metadata": {},
   "source": [
    "### How much each value of total_bill is far from its mean?"
   ]
  },
  {
   "cell_type": "code",
   "execution_count": null,
   "id": "e240dc1f",
   "metadata": {
    "scrolled": true
   },
   "outputs": [],
   "source": [
    "df[\"total_bill\"].mean()-df[\"total_bill\"]"
   ]
  },
  {
   "cell_type": "markdown",
   "id": "04a3dc02",
   "metadata": {},
   "source": [
    "   ### Can you take random sample of 50 observations without changing its state from this data"
   ]
  },
  {
   "cell_type": "code",
   "execution_count": null,
   "id": "c236b653",
   "metadata": {},
   "outputs": [],
   "source": [
    "df.sample(50,random_state=20)"
   ]
  },
  {
   "cell_type": "markdown",
   "id": "d3498a72",
   "metadata": {},
   "source": [
    "### Randomly pick 10 observations of total_bill with certain randomstate and return its highest total_bill value.Repeat the process for 10 times and find its average value"
   ]
  },
  {
   "cell_type": "code",
   "execution_count": null,
   "id": "9cac7a50",
   "metadata": {},
   "outputs": [],
   "source": [
    "sum=0\n",
    "for i in range(10):\n",
    "    random_pick=df.sample(10).total_bill.max()\n",
    "    sum+=random_pick\n",
    "print(\"average:\",sum/10)"
   ]
  },
  {
   "cell_type": "markdown",
   "id": "3f538280",
   "metadata": {},
   "source": [
    "### Create the synthetic data for total bill and tip with size of 2. Write code to generate values in between 50 and 100 for total_bill AND tip in between 10 and 20 dollars. Plot the newly generated data to see if these two new variables are correlated? and discuss the same."
   ]
  },
  {
   "cell_type": "code",
   "execution_count": null,
   "id": "46120467",
   "metadata": {
    "scrolled": true
   },
   "outputs": [],
   "source": [
    "df[\"total_new_bill\"]=df[\"total_bill\"]*2\n",
    "df[\"new_tip\"]=df[\"tip\"]*2\n",
    "df[(df[\"total_bill\"]>=50) & (df[\"total_bill\"]<=100)]\n",
    "df[(df[\"tip\"]>=10 )& (df[\"tip\"]<=20)]\n",
    "df[df[\"size\"]==2]"
   ]
  },
  {
   "cell_type": "code",
   "execution_count": null,
   "id": "826734cc",
   "metadata": {
    "scrolled": true
   },
   "outputs": [],
   "source": [
    "sns.regplot(y=\"total_new_bill\",x=\"new_tip\",data=df,color=\"green\")"
   ]
  },
  {
   "cell_type": "markdown",
   "id": "175d07a7",
   "metadata": {},
   "source": [
    "#### There is a Positive Relationship between Total_new_bill and New_tip"
   ]
  },
  {
   "cell_type": "markdown",
   "id": "cde3e337",
   "metadata": {},
   "source": [
    "### Identify the data where total_bill and tip values are having atleast 10 dollors difference"
   ]
  },
  {
   "cell_type": "code",
   "execution_count": null,
   "id": "b9ed54de",
   "metadata": {
    "scrolled": false
   },
   "outputs": [],
   "source": [
    "df[\"total_amount\"]=df[\"total_bill\"]-df[\"tip\"]\n",
    "df[df[\"total_amount\"]>=10]\n",
    "\n",
    "         "
   ]
  },
  {
   "cell_type": "markdown",
   "id": "4c0d6e8d",
   "metadata": {},
   "source": [
    "### Why friday is most typical day for better transaction? pleease discuss in detail"
   ]
  },
  {
   "cell_type": "code",
   "execution_count": null,
   "id": "ee596f13",
   "metadata": {
    "scrolled": true
   },
   "outputs": [],
   "source": [
    "df.groupby(\"day\")[\"total_bill\"].mean()"
   ]
  },
  {
   "cell_type": "markdown",
   "id": "d201b908",
   "metadata": {},
   "source": [
    "#### The Friday is most typical day for transaction because there is less presence of customers,so we get less average of total_bill"
   ]
  },
  {
   "cell_type": "markdown",
   "id": "f6890f4d",
   "metadata": {},
   "source": [
    "### Make a group of total_bills data from the random sample of bills data the random sample of 20observations and find its list of closest values"
   ]
  },
  {
   "cell_type": "code",
   "execution_count": null,
   "id": "fd3f0bb6",
   "metadata": {},
   "outputs": [],
   "source": [
    "df_48=df[\"total_bill\"].sample(20)\n",
    "list1=list(df_48.sort_values())\n",
    "print(list(list1))"
   ]
  },
  {
   "cell_type": "code",
   "execution_count": null,
   "id": "2e7dbe47",
   "metadata": {},
   "outputs": [],
   "source": [
    "x=df[\"total_bill\"].sample(20,random_state=20)\n",
    "print(x)\n",
    "print(\"____________________________________________________\")\n",
    "a=x.head(10).tail(5)\n",
    "print(a)\n",
    "print(\"____________________________________________________\")\n",
    "b=x.tail(10).head(5)\n",
    "print(b)\n",
    "print(\"____________________________________________________\")\n",
    "c=x.head(5).tail(10)\n",
    "print(c)\n",
    "print(\"____________________________________________________\")\n",
    "d=x.head(5).head(10)\n",
    "print(d)\n",
    "print(\"____________________________________________________\")\n",
    "input=17\n",
    "df.iloc[(df[\"total_bill\"]-input).abs().argsort()[:2]]"
   ]
  },
  {
   "cell_type": "markdown",
   "id": "0b328b89",
   "metadata": {},
   "source": [
    "### Discuss your ideology and critics of why female has less smoking data compare to male"
   ]
  },
  {
   "cell_type": "code",
   "execution_count": null,
   "id": "9d0d6092",
   "metadata": {},
   "outputs": [],
   "source": [
    "a=df[(df[\"smoker\"]==\"Yes\")&(df[\"sex\"]==\"Female\")]\n",
    "len(a)"
   ]
  },
  {
   "cell_type": "code",
   "execution_count": null,
   "id": "3fdfeaf1",
   "metadata": {},
   "outputs": [],
   "source": [
    "b=df[(df[\"smoker\"]==\"Yes\")&(df[\"sex\"]==\"Male\")]\n",
    "len(b)"
   ]
  },
  {
   "cell_type": "code",
   "execution_count": null,
   "id": "d84a666e",
   "metadata": {},
   "outputs": [],
   "source": [
    "df[df[\"smoker\"]==\"Yes\"][\"sex\"].value_counts()"
   ]
  },
  {
   "cell_type": "markdown",
   "id": "67408813",
   "metadata": {},
   "source": [
    "#####  Compared to Male and Female the gender female has very smoking data...Because the male % in every aspect is more than female and with smoking we have got very less data"
   ]
  },
  {
   "cell_type": "markdown",
   "id": "e8abb7e2",
   "metadata": {},
   "source": [
    "### Randomly pick a record from this dataset and return its Gender with total_bill and tip values.Repeat process for at least for 5 times and return highest among them"
   ]
  },
  {
   "cell_type": "code",
   "execution_count": null,
   "id": "6074de0a",
   "metadata": {},
   "outputs": [],
   "source": [
    "l=[]\n",
    "for i in range(5):\n",
    "    s=df.sample()[[\"sex\",\"total_bill\",\"tip\"]]\n",
    "    l.append(s)\n",
    "#print(max(l))\n",
    "l"
   ]
  },
  {
   "cell_type": "markdown",
   "id": "6e6edaf3",
   "metadata": {},
   "source": [
    "#### The male has return highest total_bill and tip"
   ]
  },
  {
   "cell_type": "code",
   "execution_count": null,
   "id": "be5e1c75",
   "metadata": {},
   "outputs": [],
   "source": []
  }
 ],
 "metadata": {
  "kernelspec": {
   "display_name": "Python 3 (ipykernel)",
   "language": "python",
   "name": "python3"
  },
  "language_info": {
   "codemirror_mode": {
    "name": "ipython",
    "version": 3
   },
   "file_extension": ".py",
   "mimetype": "text/x-python",
   "name": "python",
   "nbconvert_exporter": "python",
   "pygments_lexer": "ipython3",
   "version": "3.9.9"
  }
 },
 "nbformat": 4,
 "nbformat_minor": 5
}
